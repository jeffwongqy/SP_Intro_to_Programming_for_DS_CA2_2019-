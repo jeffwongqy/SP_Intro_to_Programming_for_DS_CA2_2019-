{
 "cells": [
  {
   "cell_type": "markdown",
   "metadata": {},
   "source": [
    "## A) Create MySQL DataBase"
   ]
  },
  {
   "cell_type": "code",
   "execution_count": 2,
   "metadata": {},
   "outputs": [
    {
     "name": "stdout",
     "output_type": "stream",
     "text": [
      "Execute MySQL to create Database!\n",
      "DATABASE CREATED!\n"
     ]
    }
   ],
   "source": [
    "import mysql.connector as mysql\n",
    "\n",
    "user, pw, host = 'root', '83219449dD$$', '127.0.0.1'\n",
    "\n",
    "mydb = mysql.connect(user=user, password=pw, host=host)\n",
    "\n",
    "mycursor = mydb.cursor()\n",
    "\n",
    "try:\n",
    "    print(\"Execute MySQL to create Database!\")\n",
    "    mycursor.execute(\"CREATE DATABASE moh_top_5_cancers\")\n",
    "    print(\"DATABASE CREATED!\")\n",
    "except:\n",
    "    print(\"Unexpected Error!\")\n",
    "    exit()\n",
    "finally:\n",
    "    mycursor.close()\n",
    "    mydb.close()"
   ]
  },
  {
   "cell_type": "markdown",
   "metadata": {},
   "source": [
    "## B) Create Table in MySQL DataBase"
   ]
  },
  {
   "cell_type": "code",
   "execution_count": 3,
   "metadata": {},
   "outputs": [
    {
     "name": "stdout",
     "output_type": "stream",
     "text": [
      "Execute MySQL to create table!\n",
      "Table Created!\n"
     ]
    }
   ],
   "source": [
    "import mysql.connector as mysql\n",
    "\n",
    "user, pw, host, db = 'root', '83219449dD$$', '127.0.0.1', 'moh_top_5_cancers'\n",
    "\n",
    "mycursor = mysql.connect(user=user, password = pw, host=host, database = db)\n",
    "cursor = mycursor.cursor()\n",
    "\n",
    "create_table = (\"CREATE TABLE cancers(start_of_period VARCHAR(50), end_of_period VARCHAR(50), gender VARCHAR(50), type_of_cancer VARCHAR(50), incidence_rate FLOAT(20), ranks INT(20))\")\n",
    "\n",
    "try:\n",
    "    print(\"Execute MySQL to create table!\")\n",
    "    cursor.execute(create_table)\n",
    "    mycursor.commit()\n",
    "    print(\"Table Created!\")\n",
    "except:\n",
    "    print(\"Unexpected Error!\")\n",
    "    exit()\n",
    "finally:\n",
    "    cursor.close()\n",
    "    mycursor.close()"
   ]
  },
  {
   "cell_type": "markdown",
   "metadata": {},
   "source": [
    "## C) Insert Data into MySQL DataBase"
   ]
  },
  {
   "cell_type": "code",
   "execution_count": 4,
   "metadata": {},
   "outputs": [
    {
     "name": "stdout",
     "output_type": "stream",
     "text": [
      "Adding row0\n",
      "Adding row1\n",
      "Adding row2\n",
      "Adding row3\n",
      "Adding row4\n",
      "Adding row5\n",
      "Adding row6\n",
      "Adding row7\n",
      "Adding row8\n",
      "Adding row9\n",
      "All data are inserted into DataBase!\n"
     ]
    }
   ],
   "source": [
    "import mysql.connector as mysql\n",
    "import pandas as pd\n",
    "\n",
    "filename = 'C:\\\\Users\\Jeffrey Wong\\SP_Assignment_2\\Top-five-leading-cancers-by-gender.csv'\n",
    "\n",
    "df = pd.read_csv(filename)\n",
    "\n",
    "user, pw, host, db = 'root', '83219449dD$$', '127.0.0.1', 'moh_top_5_cancers'\n",
    "mycursor = mysql.connect(user=user, password = pw, host=host, database = db)\n",
    "cursor = mycursor.cursor()\n",
    "\n",
    "for index, col in df.iterrows():\n",
    "    data = {'start_of_period': col[0],\n",
    "           'end_of_period': col[1],\n",
    "           'gender':col[2],\n",
    "           'type_of_cancer': col[3],\n",
    "           'incidence_rate': col[4],\n",
    "           'ranks': col[5]}\n",
    "\n",
    "    sql = (\"INSERT INTO cancers(start_of_period, end_of_period, gender, type_of_cancer, incidence_rate, ranks)\"\n",
    "          \"VALUES(%(start_of_period)s, %(end_of_period)s, %(gender)s, %(type_of_cancer)s, %(incidence_rate)s, %(ranks)s)\")\n",
    "\n",
    "    cursor.execute(sql, data)\n",
    "    print(\"Adding row\" + str(index))\n",
    "    mycursor.commit()\n",
    "\n",
    "print(\"All data are inserted into DataBase!\")\n",
    "\n",
    "cursor.close()\n",
    "mycursor.close()"
   ]
  },
  {
   "cell_type": "markdown",
   "metadata": {},
   "source": [
    "## D) Retrieve Records from MySQL DataBase"
   ]
  },
  {
   "cell_type": "code",
   "execution_count": 6,
   "metadata": {},
   "outputs": [
    {
     "name": "stdout",
     "output_type": "stream",
     "text": [
      "***** Welcome to MOH Cancer DataBase in Singapore *****\n",
      "=================================================================\n",
      "Enter either 'Male' or 'Female' to view the database: male\n",
      "\n",
      "Data Info for Top 5 Leading Cancers for male : \n",
      "-----------------------------------------------------------------\n",
      "<class 'pandas.core.frame.DataFrame'>\n",
      "RangeIndex: 5 entries, 0 to 4\n",
      "Data columns (total 4 columns):\n",
      "gender            5 non-null object\n",
      "type_of_cancer    5 non-null object\n",
      "incidence_rate    5 non-null float64\n",
      "ranks             5 non-null int64\n",
      "dtypes: float64(1), int64(1), object(2)\n",
      "memory usage: 240.0+ bytes\n",
      "None\n",
      "\n",
      "\n",
      "Data of the Top 5 Leading Cancers for male: \n",
      "------------------------------------------------------------------\n",
      "  gender      type_of_cancer  incidence_rate  ranks\n",
      "0   male         colo-rectum            38.6      1\n",
      "1   male                lung            33.2      2\n",
      "2   male            prostate            29.7      3\n",
      "3   male  lymphoid neoplasms            17.6      4\n",
      "4   male               liver            16.8      5\n",
      "\n",
      "Numerical Summary for the Top 5 Leading Cancers for male\n",
      "-------------------------------------------------------------------\n",
      "count     5.000000\n",
      "mean     27.180000\n",
      "std       9.650492\n",
      "min      16.800000\n",
      "25%      17.600000\n",
      "50%      29.700000\n",
      "75%      33.200000\n",
      "max      38.600000\n",
      "Name: incidence_rate, dtype: float64\n",
      "\n",
      "Graphical Summary for the Top 5 Leading Cancers for male\n",
      "-------------------------------------------------------------------\n"
     ]
    },
    {
     "data": {
      "image/png": "[encoded data removed]",
      "text/plain": [
       "<Figure size 864x432 with 1 Axes>"
      ]
     },
     "metadata": {},
     "output_type": "display_data"
    },
    {
     "data": {
      "image/png": "[encoded data removed]",
      "text/plain": [
       "<Figure size 864x432 with 1 Axes>"
      ]
     },
     "metadata": {},
     "output_type": "display_data"
    }
   ],
   "source": [
    "import mysql.connector as mysql\n",
    "import pandas as pd\n",
    "import matplotlib.pyplot as plt\n",
    "import seaborn as sns\n",
    "\n",
    "def bar_chart(top_5_cancer_df, gender):\n",
    "    sns.set(style = \"darkgrid\", rc = {'figure.figsize' : (12,6)})\n",
    "    ax = sns.barplot(x = 'incidence_rate', y = 'type_of_cancer', data = top_5_cancer_df, label = gender, saturation = 0.75,\n",
    "                orient = 'h')\n",
    "    ax.set_title(\"Top 5 Leading Cancers for \" + gender, fontsize = 15, fontweight = 'bold')\n",
    "    ax.set_xlabel(\"Incidence Rate (%)\", fontsize = 13, fontweight = 'bold')\n",
    "    ax.set_ylabel(\"Type of Cancer\", fontsize = 13, fontweight = 'bold')\n",
    "    ax.legend(loc = 'lower right', facecolor = 'white', edgecolor = 'navy', shadow = True)\n",
    "    sns.despine(top  =True, right = True, left = False, bottom = False)\n",
    "    \n",
    "    plt.show(ax)\n",
    "\n",
    "def pie_chart(top_5_cancer_df):\n",
    "    explode = (0.06, 0.06, 0.06, 0.06, 0.06)\n",
    "    colors = ['#ff9999','#66b3ff','#99ff99','#ffcc99', '#f8e604']\n",
    "    ax = top_5_cancer_df.plot(kind = 'pie', y = 'incidence_rate', autopct='%1.1f%%', colors = colors,\n",
    "                               pctdistance=0.85, explode = explode, labels = top_5_cancer_df['type_of_cancer'], legend = False)\n",
    "    centre_circle = plt.Circle((0,0),0.50,fc='white')\n",
    "    fig = plt.gcf()\n",
    "    fig.gca().add_artist(centre_circle)\n",
    "    ax.axis('equal')\n",
    "    \n",
    "    plt.show(ax)\n",
    "\n",
    "\n",
    "user, pw, host, db = 'root', '83219449dD$$', '127.0.0.1', 'moh_top_5_cancers'\n",
    "\n",
    "mycursor = mysql.connect(user=user, password = pw, host=host, database = db)\n",
    "\n",
    "print(\"***** Welcome to MOH Cancer DataBase in Singapore *****\")\n",
    "print(\"=================================================================\")\n",
    "gender = input(\"Enter either 'Male' or 'Female' to view the database: \")\n",
    "\n",
    "sql = \"SELECT * FROM cancers WHERE gender = '\" + gender + \"'\"\n",
    "\n",
    "top_5_cancer_df = pd.read_sql(sql, con = mycursor)\n",
    "top_5_cancer_df = pd.DataFrame(top_5_cancer_df)\n",
    "top_5_cancer_df = top_5_cancer_df.drop(columns = ['start_of_period', 'end_of_period'])\n",
    "\n",
    "print()\n",
    "print(\"Data Info for Top 5 Leading Cancers for \" + gender + \" : \")\n",
    "print(\"-----------------------------------------------------------------\")\n",
    "print(top_5_cancer_df.info())\n",
    "print()\n",
    "\n",
    "print()\n",
    "print(\"Data of the Top 5 Leading Cancers for \" + gender + \": \")\n",
    "print(\"------------------------------------------------------------------\")\n",
    "print(top_5_cancer_df)\n",
    "print()\n",
    "\n",
    "print(\"Numerical Summary for the Top 5 Leading Cancers for \" + gender)\n",
    "print(\"-------------------------------------------------------------------\")\n",
    "print(top_5_cancer_df['incidence_rate'].describe())\n",
    "print()\n",
    "\n",
    "print(\"Graphical Summary for the Top 5 Leading Cancers for \" + gender)\n",
    "print(\"-------------------------------------------------------------------\")\n",
    "\n",
    "### call function to display bar chart and pie chart\n",
    "bar_chart(top_5_cancer_df, gender)\n",
    "pie_chart(top_5_cancer_df)\n",
    "\n",
    "mycursor.close()"
   ]
  },
  {
   "cell_type": "markdown",
   "metadata": {},
   "source": [
    "## E) Delete Table in MySQL DataBase"
   ]
  },
  {
   "cell_type": "code",
   "execution_count": 7,
   "metadata": {},
   "outputs": [
    {
     "name": "stdout",
     "output_type": "stream",
     "text": [
      "Execute MySQL to DELETE TABLE!\n",
      "Table Deleted!\n"
     ]
    }
   ],
   "source": [
    "import mysql.connector as mysql\n",
    "\n",
    "user, pw, host, db = 'root', '83219449dD$$', '127.0.0.1', 'moh_top_5_cancers'\n",
    "\n",
    "mycursor = mysql.connect(user=user, password = pw, host=host, database = db)\n",
    "cursor = mycursor.cursor()\n",
    "\n",
    "mysql = (\"DROP TABLE cancers\")\n",
    "\n",
    "try:\n",
    "    print(\"Execute MySQL to DELETE TABLE!\")\n",
    "    cursor.execute(mysql)\n",
    "    mycursor.commit()\n",
    "    print(\"Table Deleted!\")\n",
    "except:\n",
    "    print(\"Unexpected Error!\")\n",
    "    exit()\n",
    "finally:\n",
    "    cursor.close()\n",
    "    mycursor.close()"
   ]
  },
  {
   "cell_type": "markdown",
   "metadata": {},
   "source": [
    "## F) Delete MySQL DataBase"
   ]
  },
  {
   "cell_type": "code",
   "execution_count": 8,
   "metadata": {},
   "outputs": [
    {
     "name": "stdout",
     "output_type": "stream",
     "text": [
      "Execute MySQL to delete database!\n",
      "DataBase Deleted!\n"
     ]
    }
   ],
   "source": [
    "import mysql.connector, sys\n",
    "\n",
    "user, pw, host= 'root', '83219449dD$$', '127.0.0.1'\n",
    "\n",
    "mycursor = mysql.connector.connect(user=user, password = pw, host=host)\n",
    "cursor = mycursor.cursor()\n",
    "\n",
    "mysql = (\"DROP DATABASE moh_top_5_cancers\")\n",
    "\n",
    "try:\n",
    "    print(\"Execute MySQL to delete database!\")\n",
    "    cursor.execute(mysql)\n",
    "    mycursor.commit()\n",
    "    print(\"DataBase Deleted!\")\n",
    "except:\n",
    "    print(\"Unexpected Error!\")\n",
    "    exit()\n",
    "finally:\n",
    "    cursor.close()\n",
    "    mycursor.close()"
   ]
  }
 ],
 "metadata": {
  "kernelspec": {
   "display_name": "Python 3",
   "language": "python",
   "name": "python3"
  },
  "language_info": {
   "codemirror_mode": {
    "name": "ipython",
    "version": 3
   },
   "file_extension": ".py",
   "mimetype": "text/x-python",
   "name": "python",
   "nbconvert_exporter": "python",
   "pygments_lexer": "ipython3",
   "version": "3.7.3"
  }
 },
 "nbformat": 4,
 "nbformat_minor": 2
}
