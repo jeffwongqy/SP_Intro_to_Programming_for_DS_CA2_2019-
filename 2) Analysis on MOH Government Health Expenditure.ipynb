{
 "cells": [
  {
   "cell_type": "markdown",
   "metadata": {},
   "source": [
    "## A) Create MySQL DataBase"
   ]
  },
  {
   "cell_type": "code",
   "execution_count": 1,
   "metadata": {},
   "outputs": [
    {
     "name": "stdout",
     "output_type": "stream",
     "text": [
      "Execute MySQL to create DataBase!\n",
      "DATABASE CREATED!\n"
     ]
    }
   ],
   "source": [
    "import mysql.connector as mysql\n",
    "\n",
    "user, pw, host = 'root', '83219449dD$$', '127.0.0.1'\n",
    "\n",
    "mydb = mysql.connect(user=user, password = pw, host=host)\n",
    "\n",
    "mycursor = mydb.cursor()\n",
    "\n",
    "try:\n",
    "    print(\"Execute MySQL to create DataBase!\")\n",
    "    mycursor.execute(\"CREATE DATABASE moh_government_expenditure\")\n",
    "    mydb.commit()\n",
    "    print(\"DATABASE CREATED!\")\n",
    "except:\n",
    "    print(\"Unexpected Error!\")\n",
    "    exit()\n",
    "finally:\n",
    "    mycursor.close()\n",
    "    mydb.close()"
   ]
  },
  {
   "cell_type": "markdown",
   "metadata": {},
   "source": [
    "## B) Create Table in MySQL DataBase"
   ]
  },
  {
   "cell_type": "code",
   "execution_count": 2,
   "metadata": {},
   "outputs": [
    {
     "name": "stdout",
     "output_type": "stream",
     "text": [
      "Execute MySQL to create table!\n",
      "Table Created!\n"
     ]
    }
   ],
   "source": [
    "import mysql.connector as mysql\n",
    "\n",
    "user, pw, host, db = 'root', '83219449dD$$', '127.0.0.1', 'moh_government_expenditure'\n",
    "\n",
    "mycursor = mysql.connect(user=user, password = pw, host=host, database = db)\n",
    "cursor = mycursor.cursor()\n",
    "\n",
    "create_table = (\"CREATE TABLE government_expenditure(financial_year INT(20) NOT NULL, operating_expenditure FLOAT(20) NOT NULL, development_expenditure FLOAT(20) NOT NULL, government_health_expenditure FLOAT(20) NOT NULL, percentage_gdp INT(20) NOT NULL, percentage_tge INT(20) NOT NULL)\")\n",
    "try:\n",
    "    print(\"Execute MySQL to create table!\")\n",
    "    cursor.execute(create_table)\n",
    "    mycursor.commit()\n",
    "    print(\"Table Created!\")\n",
    "except:\n",
    "    print(\"Unexpected Error!\")\n",
    "    exit()\n",
    "finally:\n",
    "    cursor.close()\n",
    "    mycursor.close()"
   ]
  },
  {
   "cell_type": "markdown",
   "metadata": {},
   "source": [
    "## C) Insert Data into MySQL DataBase"
   ]
  },
  {
   "cell_type": "code",
   "execution_count": 3,
   "metadata": {},
   "outputs": [
    {
     "name": "stdout",
     "output_type": "stream",
     "text": [
      "Adding row0\n",
      "Adding row1\n",
      "Adding row2\n",
      "Adding row3\n",
      "Adding row4\n",
      "Adding row5\n",
      "Adding row6\n",
      "Adding row7\n",
      "Adding row8\n",
      "Adding row9\n",
      "All data are inserted into DataBase!\n"
     ]
    }
   ],
   "source": [
    "import mysql.connector as mysql\n",
    "import pandas as pd\n",
    "\n",
    "filename = 'C:\\\\Users\\Jeffrey Wong\\SP_Assignment_2\\Government-health-expenditure.csv'\n",
    "\n",
    "df = pd.read_csv(filename)\n",
    "\n",
    "user, pw, host, db = 'root', '83219449dD$$', '127.0.0.1', 'moh_government_expenditure'\n",
    "mycursor = mysql.connect(user=user, password = pw, host=host, database = db)\n",
    "cursor = mycursor.cursor()\n",
    "\n",
    "for index, col in df.iterrows():\n",
    "    data = {'financial_year': col[0],\n",
    "           'operating_expenditure': col[1],\n",
    "           'development_expenditure':col[2],\n",
    "           'government_health_expenditure': col[3],\n",
    "           'percentage_gdp': col[4],\n",
    "           'percentage_tge': col[5]}\n",
    "\n",
    "    sql = (\"INSERT INTO government_expenditure(financial_year, operating_expenditure, development_expenditure, government_health_expenditure, percentage_gdp, percentage_tge)\"\n",
    "          \"VALUES(%(financial_year)s, %(operating_expenditure)s, %(development_expenditure)s, %(government_health_expenditure)s, %(percentage_gdp)s, %(percentage_tge)s)\")\n",
    "\n",
    "    cursor.execute(sql, data)\n",
    "    print(\"Adding row\" + str(index))\n",
    "    mycursor.commit()\n",
    "\n",
    "print(\"All data are inserted into DataBase!\")\n",
    "\n",
    "cursor.close()\n",
    "mycursor.close()"
   ]
  },
  {
   "cell_type": "markdown",
   "metadata": {},
   "source": [
    "## D) Retrieve Data from MySQL DataBase"
   ]
  },
  {
   "cell_type": "code",
   "execution_count": 7,
   "metadata": {},
   "outputs": [
    {
     "name": "stdout",
     "output_type": "stream",
     "text": [
      "***** Welcome to the MOH Government Expenditure DataBase *****\n",
      "===================================================================\n",
      "1) Operating Expenditure\n",
      "2) Development Expenditure\n",
      "3) Health Expenditure\n",
      "-------------------------------------------------------------------\n",
      "Please select your choice to view the database: 3\n",
      "\n",
      "Data Info for : government_health_expenditure\n",
      "<class 'pandas.core.frame.DataFrame'>\n",
      "RangeIndex: 10 entries, 0 to 9\n",
      "Data columns (total 2 columns):\n",
      "financial_year                   10 non-null int64\n",
      "government_health_expenditure    10 non-null float64\n",
      "dtypes: float64(1), int64(1)\n",
      "memory usage: 240.0 bytes\n",
      "None\n",
      "\n",
      "\n",
      "Data for: government_health_expenditure\n",
      "-------------------------------------------------------------\n",
      "   financial_year  government_health_expenditure\n",
      "0            2006                         2009.7\n",
      "1            2007                         2283.2\n",
      "2            2008                         2814.1\n",
      "3            2009                         3746.0\n",
      "4            2010                         3857.0\n",
      "5            2011                         4085.0\n",
      "6            2012                         4881.0\n",
      "7            2013                         5952.0\n",
      "8            2014                         7300.0\n",
      "9            2015                         8709.0\n",
      "\n",
      "Basic Descriptive Statistics Summary for government_health_expenditure:\n",
      "-------------------------------------------------------------\n",
      "count      10.000000\n",
      "mean     4563.700000\n",
      "std      2182.781463\n",
      "min      2009.700000\n",
      "25%      3047.075000\n",
      "50%      3971.000000\n",
      "75%      5684.250000\n",
      "max      8709.000000\n",
      "Name: government_health_expenditure, dtype: float64\n",
      "\n",
      "Graphical Summary for government_health_expenditure:\n",
      "--------------------------------------------------------------\n"
     ]
    },
    {
     "data": {
      "image/png": "[encoded data removed]",
      "text/plain": [
       "<Figure size 576x360 with 1 Axes>"
      ]
     },
     "metadata": {},
     "output_type": "display_data"
    },
    {
     "name": "stdout",
     "output_type": "stream",
     "text": [
      "Would you like to see the relationship between Singapore Population and Government Health Expenditure? (Y/N):y\n",
      "  Country Name  financial_year  SG population (in million)  \\\n",
      "0    Singapore            2006                   4401365.0   \n",
      "1    Singapore            2007                   4588599.0   \n",
      "2    Singapore            2008                   4839396.0   \n",
      "3    Singapore            2009                   4987573.0   \n",
      "4    Singapore            2010                   5076732.0   \n",
      "5    Singapore            2011                   5183688.0   \n",
      "6    Singapore            2012                   5312437.0   \n",
      "7    Singapore            2013                   5399162.0   \n",
      "8    Singapore            2014                   5469724.0   \n",
      "9    Singapore            2015                   5535002.0   \n",
      "\n",
      "   government_health_expenditure  \n",
      "0                         2009.7  \n",
      "1                         2283.2  \n",
      "2                         2814.1  \n",
      "3                         3746.0  \n",
      "4                         3857.0  \n",
      "5                         4085.0  \n",
      "6                         4881.0  \n",
      "7                         5952.0  \n",
      "8                         7300.0  \n",
      "9                         8709.0  \n"
     ]
    },
    {
     "data": {
      "image/png": "[encoded data removed]",
      "text/plain": [
       "<Figure size 576x360 with 1 Axes>"
      ]
     },
     "metadata": {},
     "output_type": "display_data"
    },
    {
     "name": "stdout",
     "output_type": "stream",
     "text": [
      "Correlation Coefficient:\n",
      "                               financial_year  SG population (in million)  \\\n",
      "financial_year                       1.000000                    0.979986   \n",
      "SG population (in million)           0.979986                    1.000000   \n",
      "government_health_expenditure        0.964501                    0.909170   \n",
      "\n",
      "                               government_health_expenditure  \n",
      "financial_year                                      0.964501  \n",
      "SG population (in million)                          0.909170  \n",
      "government_health_expenditure                       1.000000  \n",
      "\n"
     ]
    }
   ],
   "source": [
    "import mysql.connector as mysql\n",
    "import pandas as pd\n",
    "import matplotlib.pyplot as plt\n",
    "import seaborn as sns\n",
    "\n",
    "################################################## Define Functions ######################################################\n",
    "def data_info(expenditure, expenditure_df1):\n",
    "    print()\n",
    "    print(\"Data Info for : \" + expenditure)\n",
    "    print(expenditure_df1.info())\n",
    "    print()\n",
    "\n",
    "def table_of_data(expenditure, expenditure_df1):\n",
    "    print()\n",
    "    print(\"Data for: \" + expenditure)\n",
    "    print(\"-------------------------------------------------------------\")\n",
    "    print(expenditure_df1)\n",
    "    print()\n",
    "\n",
    "def descriptive_stats_summary(expenditure, expenditure_df1):\n",
    "    print(\"Basic Descriptive Statistics Summary for {}:\".format(expenditure))\n",
    "    print(\"-------------------------------------------------------------\")\n",
    "    print(expenditure_df1[expenditure].describe())\n",
    "    print()\n",
    "\n",
    "def line_graph(expenditure, expenditure_df1):\n",
    "    print(\"Graphical Summary for {}:\".format(expenditure))\n",
    "    print(\"--------------------------------------------------------------\")\n",
    "    sns.set(style = \"darkgrid\", rc = {'figure.figsize' : (8,5)})\n",
    "    ax = sns.lineplot(x = \"financial_year\", y = expenditure, data = expenditure_df1, marker = \"o\", color = \"deepskyblue\",\n",
    "                      linewidth = 3, markerfacecolor = \"fuchsia\", label = \"{}\".format(expenditure) )\n",
    "    ax.set_title(\"MOH Government Expenditure on \" + expenditure, fontsize = 15, fontweight = \"bold\" )\n",
    "    ax.set_xlabel(\"Financial Year\", fontsize = 12, fontweight = \"bold\")\n",
    "    ax.set_ylabel(\"million SGD\", fontsize = 12, fontweight = \"bold\")\n",
    "    ax.set_xticks(expenditure_df1['financial_year'])\n",
    "    ax.legend(loc = \"upper left\", facecolor = \"white\", edgecolor = \"plum\", shadow = True)\n",
    "    plt.show(ax)\n",
    "    \n",
    "def scatter_plot(merge_data):\n",
    "    ax = sns.regplot(x = 'SG population (in million)', y = 'government_health_expenditure', data = merge_data, \n",
    "                          fit_reg = True, marker = '8', color = 'limegreen')\n",
    "    ax.set_title(\"Singapore Population (in million) versus Government Health Expenditure\", fontsize = 15, fontweight = \"bold\")\n",
    "    ax.set_xlabel(\"Singapore Population (in million)\", fontweight = \"bold\", fontsize = 13)\n",
    "    ax.set_ylabel(\"Government Health Expenditure (million SGD)\", fontweight = \"bold\", fontsize = 13)\n",
    "    plt.show(ax)\n",
    "    \n",
    "################################################# Data Analysis ##########################################################\n",
    "user, pw, host, db = 'root', '83219449dD$$', '127.0.0.1', 'moh_government_expenditure'\n",
    "mycursor = mysql.connect(user=user, password = pw, host=host, database = db)\n",
    "\n",
    "### prompt the user to choose which type of government expenditure to view from the database\n",
    "print(\"***** Welcome to the MOH Government Expenditure DataBase *****\")\n",
    "print(\"===================================================================\")\n",
    "print(\"1) Operating Expenditure\")\n",
    "print(\"2) Development Expenditure\")\n",
    "print(\"3) Health Expenditure\")\n",
    "print(\"-------------------------------------------------------------------\")\n",
    "choice = int(input(\"Please select your choice to view the database: \"))\n",
    "\n",
    "year = \"financial_year\"\n",
    "if choice == 1:\n",
    "    expenditure = \"operating_expenditure\"\n",
    "    sql = \"SELECT {}, {} FROM government_expenditure\".format(year, expenditure)\n",
    "    expenditure_df = pd.read_sql(sql, con = mycursor)\n",
    "    expenditure_df1 = pd.DataFrame(expenditure_df)\n",
    "    \n",
    "    ### call the function to include the info of the data\n",
    "    data_info(expenditure, expenditure_df1)\n",
    "    \n",
    "    ### call the function to display the dataset\n",
    "    table_of_data(expenditure, expenditure_df1)\n",
    "    \n",
    "    ### call the function to display the basic descriptive statistics summary\n",
    "    descriptive_stats_summary(expenditure, expenditure_df1)\n",
    "    \n",
    "    ### call the function to display the line graph\n",
    "    line_graph(expenditure, expenditure_df1)\n",
    "    \n",
    "elif choice == 2:\n",
    "    expenditure = \"development_expenditure\"\n",
    "    sql = \" SELECT {}, {} FROM government_expenditure\".format(year, expenditure)\n",
    "    \n",
    "    expenditure_df = pd.read_sql(sql, con = mycursor)\n",
    "    expenditure_df1 = pd.DataFrame(expenditure_df)\n",
    "    \n",
    "    ### call the function to include the info of the data\n",
    "    data_info(expenditure, expenditure_df1)\n",
    "    \n",
    "    ### call the function to display the dataset\n",
    "    table_of_data(expenditure, expenditure_df1)\n",
    "    \n",
    "    ### call the function to display the basic descriptive statistics summary\n",
    "    descriptive_stats_summary(expenditure, expenditure_df1)\n",
    "    \n",
    "    ### call the function to display the line graph\n",
    "    line_graph(expenditure, expenditure_df1)\n",
    "\n",
    "elif choice == 3:\n",
    "    expenditure = \"government_health_expenditure\"\n",
    "    sql = \"SELECT {}, {} FROM government_expenditure\".format(year, expenditure)\n",
    "    \n",
    "    expenditure_df = pd.read_sql(sql, con = mycursor)\n",
    "    expenditure_df1 = pd.DataFrame(expenditure_df)\n",
    "    \n",
    "    ### call the function to include the info of the data\n",
    "    data_info(expenditure, expenditure_df1)\n",
    "    \n",
    "    ### call the function to display the dataset\n",
    "    table_of_data(expenditure, expenditure_df1)\n",
    "    \n",
    "    ### call the function to display the basic descriptive statistics summary\n",
    "    descriptive_stats_summary(expenditure, expenditure_df1)\n",
    "    \n",
    "    ### call the function to display the line graph\n",
    "    line_graph(expenditure, expenditure_df1)\n",
    "    \n",
    "    choice_1 = input(\"Would you like to see the relationship between Singapore Population and Government Health Expenditure? (Y/N):\")\n",
    "    \n",
    "    if choice_1 == 'Y' or choice_1 == 'y':\n",
    "        \n",
    "        filename_population = 'C:\\\\Users\\Jeffrey Wong\\SP_Assignment_2\\World_population.csv'\n",
    "        \n",
    "        data = pd.read_csv(filename_population)\n",
    "        \n",
    "        world_population_df = pd.DataFrame(data, columns = ['Country Name', '2006', '2007', '2008', '2009', '2010',\n",
    "                                                           '2011', '2012', '2013', '2014', '2015'])\n",
    "        \n",
    "        \n",
    "        singapore_population_df = pd.melt(world_population_df, id_vars = ['Country Name'], var_name = 'financial_year', value_name = 'SG population (in million)')\n",
    "        \n",
    "        singapore_population_df = singapore_population_df[singapore_population_df['Country Name'] == 'Singapore']\n",
    "        \n",
    "        singapore_population_df['financial_year'] = singapore_population_df['financial_year'].astype(int)\n",
    "        \n",
    "        merge_data = pd.merge(singapore_population_df, expenditure_df, how = 'right', on = 'financial_year')\n",
    "        \n",
    "        print(merge_data)\n",
    "        \n",
    "        ### call the function to display scatter plot\n",
    "        scatter_plot(merge_data)\n",
    "        \n",
    "        print(\"Correlation Coefficient:\")\n",
    "        corr_data = merge_data.corr(method = \"pearson\")\n",
    "        print(corr_data)\n",
    "        print()\n",
    "    elif choice_1 == 'N' or choice_1 =='n':\n",
    "        print(\"That's Alright!\")\n",
    "        \n",
    "\n",
    "mycursor.close()"
   ]
  },
  {
   "cell_type": "markdown",
   "metadata": {},
   "source": [
    "## E) Delete Table in MySQL DataBase"
   ]
  },
  {
   "cell_type": "code",
   "execution_count": 8,
   "metadata": {},
   "outputs": [
    {
     "name": "stdout",
     "output_type": "stream",
     "text": [
      "Execute MySQL to DELETE TABLE!\n",
      "Table Deleted!\n"
     ]
    }
   ],
   "source": [
    "import mysql.connector as mysql\n",
    "\n",
    "user, pw, host, db = 'root', '83219449dD$$', '127.0.0.1', 'moh_government_expenditure'\n",
    "\n",
    "mycursor = mysql.connect(user=user, password = pw, host=host, database = db)\n",
    "cursor = mycursor.cursor()\n",
    "\n",
    "mysql = (\"DROP TABLE government_expenditure\")\n",
    "\n",
    "try:\n",
    "    print(\"Execute MySQL to DELETE TABLE!\")\n",
    "    cursor.execute(mysql)\n",
    "    mycursor.commit()\n",
    "    print(\"Table Deleted!\")\n",
    "except:\n",
    "    print(\"Unexpected Error!\")\n",
    "    exit()\n",
    "finally:\n",
    "    cursor.close()\n",
    "    mycursor.close()"
   ]
  },
  {
   "cell_type": "markdown",
   "metadata": {},
   "source": [
    "## F) Delete mySQL DataBase"
   ]
  },
  {
   "cell_type": "code",
   "execution_count": 9,
   "metadata": {},
   "outputs": [
    {
     "name": "stdout",
     "output_type": "stream",
     "text": [
      "Execute MySQL to DELETE DATABASE!\n",
      "DataBase Deleted!\n"
     ]
    }
   ],
   "source": [
    "import mysql.connector as mysql\n",
    "\n",
    "user, pw, host= 'root', '83219449dD$$', '127.0.0.1'\n",
    "\n",
    "mycursor = mysql.connect(user=user, password = pw, host=host)\n",
    "cursor = mycursor.cursor()\n",
    "\n",
    "mysql = (\"DROP DATABASE moh_government_expenditure\")\n",
    "\n",
    "try:\n",
    "    print(\"Execute MySQL to DELETE DATABASE!\")\n",
    "    cursor.execute(mysql)\n",
    "    mycursor.commit()\n",
    "    print(\"DataBase Deleted!\")\n",
    "except:\n",
    "    print(\"Unexpected Error!\")\n",
    "    exit()\n",
    "finally:\n",
    "    cursor.close()\n",
    "    mycursor.close()"
   ]
  }
 ],
 "metadata": {
  "kernelspec": {
   "display_name": "Python 3",
   "language": "python",
   "name": "python3"
  },
  "language_info": {
   "codemirror_mode": {
    "name": "ipython",
    "version": 3
   },
   "file_extension": ".py",
   "mimetype": "text/x-python",
   "name": "python",
   "nbconvert_exporter": "python",
   "pygments_lexer": "ipython3",
   "version": "3.7.3"
  }
 },
 "nbformat": 4,
 "nbformat_minor": 2
}
