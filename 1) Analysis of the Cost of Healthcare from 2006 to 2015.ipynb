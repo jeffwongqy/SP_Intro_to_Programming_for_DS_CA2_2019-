{
 "cells": [
  {
   "cell_type": "markdown",
   "metadata": {},
   "source": [
    "## A) Create MySQL DataBase"
   ]
  },
  {
   "cell_type": "code",
   "execution_count": 1,
   "metadata": {},
   "outputs": [
    {
     "name": "stdout",
     "output_type": "stream",
     "text": [
      "Execute MySQL to create DataBase\n",
      "DataBase CREATED!\n"
     ]
    }
   ],
   "source": [
    "import mysql.connector as mysql\n",
    "\n",
    "user, pw, host= 'root', '83219449dD$$', '127.0.0.1'\n",
    "\n",
    "mydb = mysql.connect(user=user, password=pw, host=host)\n",
    "\n",
    "mycursor = mydb.cursor()\n",
    "\n",
    "try:\n",
    "    print(\"Execute MySQL to create DataBase\")\n",
    "    mycursor.execute(\"CREATE DATABASE moh_cpi\")\n",
    "    mydb.commit()\n",
    "    print(\"DataBase CREATED!\")\n",
    "except:\n",
    "    print(\"Unexpectd Error!\")\n",
    "    exit()\n",
    "finally:\n",
    "    mycursor.close()\n",
    "    mydb.close()"
   ]
  },
  {
   "cell_type": "markdown",
   "metadata": {},
   "source": [
    "## B) Create Table in MySQL DataBase"
   ]
  },
  {
   "cell_type": "code",
   "execution_count": 2,
   "metadata": {},
   "outputs": [
    {
     "name": "stdout",
     "output_type": "stream",
     "text": [
      "Execute MySQL to create table\n",
      "Table Created!\n"
     ]
    }
   ],
   "source": [
    "import mysql.connector as mysql\n",
    "\n",
    "user, pw, host, db = 'root', '83219449dD$$', '127.0.0.1', 'moh_cpi'\n",
    "\n",
    "mycursor = mysql.connect(user=user, password = pw, host=host, database = db)\n",
    "cursor = mycursor.cursor()\n",
    "\n",
    "create_table = (\"CREATE TABLE cpi(year INT(20) NOT NULL, category VARCHAR(50) NOT NULL, cpi FLOAT(20) NOT NULL)\")\n",
    "\n",
    "try:\n",
    "    print(\"Execute MySQL to create table\")\n",
    "    cursor.execute(create_table)\n",
    "    mycursor.commit()\n",
    "    print(\"Table Created!\")\n",
    "except:\n",
    "    print(\"Unexpected Error!\")\n",
    "    exit()\n",
    "finally:\n",
    "    cursor.close()\n",
    "    mycursor.close()"
   ]
  },
  {
   "cell_type": "markdown",
   "metadata": {},
   "source": [
    "## C) Insert Data into MySQL DataBase"
   ]
  },
  {
   "cell_type": "code",
   "execution_count": 3,
   "metadata": {},
   "outputs": [
    {
     "name": "stdout",
     "output_type": "stream",
     "text": [
      "Adding row0\n",
      "Adding row1\n",
      "Adding row2\n",
      "Adding row3\n",
      "Adding row4\n",
      "Adding row5\n",
      "Adding row6\n",
      "Adding row7\n",
      "Adding row8\n",
      "Adding row9\n",
      "Adding row10\n",
      "Adding row11\n",
      "Adding row12\n",
      "Adding row13\n",
      "Adding row14\n",
      "Adding row15\n",
      "Adding row16\n",
      "Adding row17\n",
      "Adding row18\n",
      "Adding row19\n",
      "All data are inserted into DataBase!\n"
     ]
    }
   ],
   "source": [
    "import mysql.connector as mysql\n",
    "import pandas as pd\n",
    "\n",
    "filename = 'C:\\\\Users\\Jeffrey Wong\\SP_Assignment_2\\MOH_consumer-price-indices-cpi.csv'\n",
    "\n",
    "df = pd.read_csv(filename)\n",
    "\n",
    "user, pw, host, db = 'root', '83219449dD$$', '127.0.0.1', 'moh_cpi'\n",
    "mycursor = mysql.connect(user=user, password = pw, host=host, database = db)\n",
    "cursor = mycursor.cursor()\n",
    "\n",
    "for index, col in df.iterrows():\n",
    "    data = {'year': col[0],\n",
    "           'category': col[1],\n",
    "           'cpi':col[2]}\n",
    "\n",
    "    sql = (\"INSERT INTO cpi(year, category, cpi)\"\n",
    "          \"VALUES(%(year)s, %(category)s, %(cpi)s)\")\n",
    "\n",
    "    cursor.execute(sql, data)\n",
    "    print(\"Adding row\" + str(index))\n",
    "    mycursor.commit()\n",
    "\n",
    "print(\"All data are inserted into DataBase!\")\n",
    "\n",
    "cursor.close()\n",
    "mycursor.close()"
   ]
  },
  {
   "cell_type": "markdown",
   "metadata": {},
   "source": [
    "## D) Retrieve Data from MySQL DataBase"
   ]
  },
  {
   "cell_type": "code",
   "execution_count": 7,
   "metadata": {},
   "outputs": [
    {
     "name": "stdout",
     "output_type": "stream",
     "text": [
      "***** Welcome to the MOH Consumer Price Index DataBase *****\n",
      "====================================================================\n",
      "1) General Category\n",
      "2) Health Category\n",
      "3) Both General & Health Category\n",
      "--------------------------------------------------------------------\n",
      "Please select one of the category above <e.g. 1>: 3\n",
      "\n",
      "\n",
      "Info of Dataset for General & Health category: \n",
      "========================================================\n",
      "<class 'pandas.core.frame.DataFrame'>\n",
      "RangeIndex: 20 entries, 0 to 19\n",
      "Data columns (total 3 columns):\n",
      "category    20 non-null object\n",
      "year        20 non-null int64\n",
      "cpi         20 non-null float64\n",
      "dtypes: float64(1), int64(1), object(1)\n",
      "memory usage: 560.0+ bytes\n",
      "None\n",
      "\n",
      "\n",
      "Table of Data for General & Health category: \n",
      "=========================================================\n",
      "   category  year     cpi\n",
      "0   General  2006  78.008\n",
      "1    Health  2006  77.148\n",
      "2   General  2007  79.650\n",
      "3    Health  2007  80.270\n",
      "4   General  2008  84.929\n",
      "5    Health  2008  84.641\n",
      "6   General  2009  85.436\n",
      "7    Health  2009  86.176\n",
      "8   General  2010  87.848\n",
      "9    Health  2010  87.733\n",
      "10  General  2011  92.458\n",
      "11   Health  2011  89.814\n",
      "12  General  2012  96.689\n",
      "13   Health  2012  93.730\n",
      "14  General  2013  98.969\n",
      "15   Health  2013  97.285\n",
      "16  General  2014  99.984\n",
      "17   Health  2014  99.979\n",
      "18  General  2015  99.461\n",
      "19   Health  2015  99.895\n",
      "\n",
      "Basic Descriptive Statistics Summary for General & Health category:\n",
      "=========================================================\n",
      "count    20.000000\n",
      "mean     90.005150\n",
      "std       7.931823\n",
      "min      77.148000\n",
      "25%      84.857000\n",
      "50%      88.831000\n",
      "75%      97.706000\n",
      "max      99.984000\n",
      "Name: cpi, dtype: float64\n",
      "\n",
      "Graphical Summary for General & Health category:\n",
      "=========================================================\n"
     ]
    },
    {
     "data": {
      "image/png": "[encoded data removed]",
      "text/plain": [
       "<Figure size 576x360 with 1 Axes>"
      ]
     },
     "metadata": {},
     "output_type": "display_data"
    },
    {
     "data": {
      "image/png": "[encoded data removed]",
      "text/plain": [
       "<Figure size 576x360 with 1 Axes>"
      ]
     },
     "metadata": {},
     "output_type": "display_data"
    }
   ],
   "source": [
    "import mysql.connector as mysql\n",
    "import pandas as pd\n",
    "import matplotlib.pyplot as plt\n",
    "import seaborn as sns\n",
    "\n",
    "############################################## Define Functions ##########################################################\n",
    "\n",
    "def data_info(category, cpi_df1):\n",
    "    print()\n",
    "    print(\"Info of Dataset for {} category: \". format(category))\n",
    "    print(\"========================================================\")\n",
    "    print(cpi_df1.info())\n",
    "    print()\n",
    "\n",
    "\n",
    "def table_of_data(category, cpi_df1):\n",
    "    print()\n",
    "    print(\"Table of Data for {} category: \".format(category))\n",
    "    print(\"=========================================================\")\n",
    "    print(cpi_df1)\n",
    "    print()\n",
    "\n",
    "def descriptive_stat_summary(cpi_df1, category):\n",
    "    print(\"Basic Descriptive Statistics Summary for {} category:\".format(category))\n",
    "    print(\"=========================================================\")\n",
    "    print(cpi_df1['cpi'].describe())\n",
    "    print()\n",
    "\n",
    "def line_graph(category, cpi_df1):\n",
    "    print(\"Graphical Summary for {} category:\".format(category))\n",
    "    print(\"=========================================================\")\n",
    "    sns.set(style = \"darkgrid\", rc = {'figure.figsize' : (8,5)})\n",
    "    ax = sns.lineplot(x = \"year\", y = \"cpi\", hue = 'category', data = cpi_df1, marker = \"o\",linewidth = 3, \n",
    "                      markerfacecolor = \"tomato\")\n",
    "    ax.set_title(\"Consumer Price Index (2006 to 2015) for {}\".format(category), fontsize = 15, fontweight = \"bold\" )\n",
    "    ax.set_xlabel(\"Year\", fontsize = 12, fontweight = \"bold\")\n",
    "    ax.set_ylabel(\"Consumer Price Index\", fontsize = 12, fontweight = \"bold\")\n",
    "    ax.set_xticks(cpi_df1['year'])\n",
    "    ax.legend(loc = \"lower right\", facecolor = \"white\", edgecolor = \"cyan\", shadow = True)\n",
    "\n",
    "    plt.show(ax)\n",
    "\n",
    "def pie_chart(category, new_cpi_df):\n",
    "    explode = (0.06, 0.06)\n",
    "    colors = ['#66b3ff','#99ff99']\n",
    "    labels = ['General', 'Health']\n",
    "    ax = new_cpi_df.plot(kind = 'pie', y = ['cpi_x', 'cpi_y'], autopct='%1.1f%%', pctdistance = 0.75, explode = explode,\n",
    "                        labels = labels, colors = colors)\n",
    "    centre_circle = plt.Circle((0,0),0.60,fc='white')\n",
    "    fig = plt.gcf()\n",
    "    fig.gca().add_artist(centre_circle)\n",
    "    \n",
    "    # Equal aspect ratio ensures that pie is drawn as a circle\n",
    "    ax.axis('equal')\n",
    "    \n",
    "    plt.show()\n",
    "############################################### Data Analysis ############################################################\n",
    "user, pw, host, db = 'root', '83219449dD$$', '127.0.0.1', 'moh_cpi'\n",
    "\n",
    "mycursor = mysql.connect(user=user, password=pw, host=host, database=db)\n",
    "cursor = mycursor.cursor()\n",
    "\n",
    "print(\"***** Welcome to the MOH Consumer Price Index DataBase *****\")\n",
    "print(\"====================================================================\")\n",
    "print(\"1) General Category\")\n",
    "print(\"2) Health Category\")\n",
    "print(\"3) Both General & Health Category\")\n",
    "print(\"--------------------------------------------------------------------\")\n",
    "choice = int(input(\"Please select one of the category above <e.g. 1>: \"))\n",
    "print()\n",
    "\n",
    "if choice == 1:\n",
    "    category = \"General\"\n",
    "    sql = \"SELECT * FROM cpi WHERE category = '\" + category + \"' \"\n",
    "    \n",
    "    cpi_df = pd.read_sql(sql, con = mycursor)\n",
    "    cpi_df1 = pd.DataFrame(cpi_df)\n",
    "    \n",
    "    ### call the function to include the info of the data\n",
    "    data_info(category, cpi_df1)\n",
    "    \n",
    "    ### call the function to display table of data\n",
    "    table_of_data(category, cpi_df1)\n",
    "    \n",
    "    ### call the function to display basic descriptive statistics summary\n",
    "    descriptive_stat_summary(cpi_df1, category)\n",
    "    \n",
    "    ### call the function to display line graph\n",
    "    line_graph(category, cpi_df1)\n",
    "    \n",
    "elif choice == 2:\n",
    "    category = \"Health\"\n",
    "    sql = \"SELECT * FROM cpi WHERE category = '\" + category + \"' \"\n",
    "    \n",
    "    cpi_df = pd.read_sql(sql, con = mycursor)\n",
    "    cpi_df1 = pd.DataFrame(cpi_df)\n",
    "    \n",
    "    ### call the function to include the info of the data\n",
    "    data_info(category, cpi_df1)\n",
    "    \n",
    "    ### call the function to display table of data\n",
    "    table_of_data(category, cpi_df1)\n",
    "    \n",
    "    ### call the function to display basic descriptive statistics summary\n",
    "    descriptive_stat_summary(cpi_df1, category)\n",
    "    \n",
    "    ### call the function to display line graph\n",
    "    line_graph(category, cpi_df1)\n",
    "    \n",
    "elif choice == 3:\n",
    "    category = \"category\"\n",
    "    year = \"year\"\n",
    "    cpi = \"cpi\"\n",
    "    sql = \"SELECT {},{},{} FROM cpi\".format(category, year, cpi)\n",
    "    category = \"General & Health\"\n",
    "    \n",
    "    cpi_df = pd.read_sql(sql, con = mycursor)\n",
    "    cpi_df1 = pd.DataFrame(cpi_df)\n",
    "    \n",
    "    ### call the function to include the info of the data\n",
    "    data_info(category, cpi_df1)\n",
    "    \n",
    "    ### call the function to display table of data\n",
    "    table_of_data(category, cpi_df1)\n",
    "    \n",
    "    ### call the function to display basic descriptive statistics summary\n",
    "    descriptive_stat_summary(cpi_df1, category)\n",
    "    \n",
    "    ### calling function to display line graph\n",
    "    line_graph(category, cpi_df1)\n",
    "    \n",
    "    ### compute the average for both health and general cpi respectively\n",
    "    general_cpi_df2 = cpi_df1.loc[cpi_df1['category'] == 'General']\n",
    "    health_cpi_df2 = cpi_df1.loc[cpi_df1['category'] == 'Health']\n",
    "    merge_data = pd.merge(general_cpi_df2, health_cpi_df2, how = 'right', on = 'year')\n",
    "    merge_data = merge_data.drop(columns = ['year','category_x', 'category_y'])\n",
    "    new_cpi_df = merge_data.mean()\n",
    "    \n",
    "    ### call the function to display pie chart\n",
    "    pie_chart(category, new_cpi_df)\n",
    "    \n",
    "cursor.close()\n",
    "mycursor.close()"
   ]
  },
  {
   "cell_type": "markdown",
   "metadata": {},
   "source": [
    "## E) Delete Table in MySQL DataBase"
   ]
  },
  {
   "cell_type": "code",
   "execution_count": 8,
   "metadata": {},
   "outputs": [
    {
     "name": "stdout",
     "output_type": "stream",
     "text": [
      "Execute MySQL to DELETE TABLE\n",
      "Table Deleted!\n"
     ]
    }
   ],
   "source": [
    "import mysql.connector, sys\n",
    "\n",
    "user, pw, host, db = 'root', '83219449dD$$', '127.0.0.1', 'moh_cpi'\n",
    "\n",
    "mycursor = mysql.connector.connect(user=user, password = pw, host=host, database = db)\n",
    "cursor = mycursor.cursor()\n",
    "\n",
    "mysql = (\"DROP TABLE cpi\")\n",
    "\n",
    "try:\n",
    "    print(\"Execute MySQL to DELETE TABLE\")\n",
    "    cursor.execute(mysql)\n",
    "    mycursor.commit()\n",
    "    print(\"Table Deleted!\")\n",
    "except:\n",
    "    print(\"Unexpected Error!\")\n",
    "    exit()\n",
    "finally:\n",
    "    cursor.close()\n",
    "    mycursor.close()"
   ]
  },
  {
   "cell_type": "markdown",
   "metadata": {},
   "source": [
    "## F) Delete MySQL DataBase"
   ]
  },
  {
   "cell_type": "code",
   "execution_count": 9,
   "metadata": {},
   "outputs": [
    {
     "name": "stdout",
     "output_type": "stream",
     "text": [
      "Execute MySQL to DELETE DATABASE\n",
      "DataBase Deleted!\n"
     ]
    }
   ],
   "source": [
    "import mysql.connector, sys\n",
    "\n",
    "user, pw, host = 'root', '83219449dD$$', '127.0.0.1'\n",
    "\n",
    "mycursor = mysql.connector.connect(user=user, password = pw, host=host)\n",
    "cursor = mycursor.cursor()\n",
    "\n",
    "mysql = (\"DROP DATABASE moh_cpi\")\n",
    "\n",
    "try:\n",
    "    print(\"Execute MySQL to DELETE DATABASE\")\n",
    "    cursor.execute(mysql)\n",
    "    mycursor.commit()\n",
    "    print(\"DataBase Deleted!\")\n",
    "except:\n",
    "    print(\"Unexpected Error!\")\n",
    "    exit()\n",
    "finally:\n",
    "    cursor.close()\n",
    "    mycursor.close()"
   ]
  }
 ],
 "metadata": {
  "kernelspec": {
   "display_name": "Python 3",
   "language": "python",
   "name": "python3"
  },
  "language_info": {
   "codemirror_mode": {
    "name": "ipython",
    "version": 3
   },
   "file_extension": ".py",
   "mimetype": "text/x-python",
   "name": "python",
   "nbconvert_exporter": "python",
   "pygments_lexer": "ipython3",
   "version": "3.7.3"
  }
 },
 "nbformat": 4,
 "nbformat_minor": 2
}
